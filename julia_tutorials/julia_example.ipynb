{
  "cells": [
    {
      "cell_type": "raw",
      "metadata": {},
      "source": [
        "---\n",
        "title: Julia / Quarto example\n",
        "author: David Mawdsley\n",
        "date: '2022-06-01'\n",
        "format: html\n",
        "---"
      ],
      "id": "c852ac01"
    },
    {
      "cell_type": "markdown",
      "metadata": {},
      "source": [
        "# Julia example\n",
        "\n",
        "This uses the example from the [Quarto homepage](https://www.quarto.org)\n",
        "\n",
        "## Parametric Plots\n",
        "\n",
        "Plot function pair (x(u), y(u)). \n",
        "See @fig-parametric for an example.\n"
      ],
      "id": "591ef70a"
    },
    {
      "cell_type": "code",
      "metadata": {},
      "source": [
        "#| label: fig-parametric\n",
        "#| fig-cap: Parametric Plots\n",
        "\n",
        "using Plots\n",
        "\n",
        "plot(sin, \n",
        "     x->sin(2x), \n",
        "     0, \n",
        "     2π, \n",
        "     leg=false, \n",
        "     fill=(0,:lavender))"
      ],
      "id": "fig-parametric",
      "execution_count": null,
      "outputs": []
    }
  ],
  "metadata": {
    "kernelspec": {
      "name": "julia-1.7",
      "language": "julia",
      "display_name": "Julia 1.7.2"
    }
  },
  "nbformat": 4,
  "nbformat_minor": 5
}