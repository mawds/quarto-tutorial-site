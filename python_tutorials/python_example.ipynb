{
 "cells": [
  {
   "cell_type": "raw",
   "metadata": {},
   "source": [
    "---\n",
    "title: Python Notebook demo\n",
    "author: David Mawdsley\n",
    "date: 2022-05-31\n",
    "format:\n",
    "    html:\n",
    "        code-fold: true\n",
    "---\n"
   ]
  },
  {
   "cell_type": "markdown",
   "metadata": {},
   "source": [
    "# Introduction\n",
    "\n",
    "This notebook uses a Jupyter notebook to produce this page.  This was written/edited using vscode \n",
    "\n",
    "## Setup\n",
    "\n",
    "(Most of this is vscode specific)\n",
    "\n",
    "From the terminal create a virtual environment in the `python_tutorials` directory:\n",
    "\n",
    "```{bash}\n",
    "python -m venv venv\n",
    "source venv/bin/activate\n",
    "```\n",
    "\n",
    "Install required modules:\n",
    "\n",
    "\n",
    "```{bash}\n",
    "python -m pip install jupyter ipykernel jupyterlab\n",
    "```\n",
    "\n",
    "(restart vscode if you did the above in a vscode terminal)\n",
    "\n",
    "Load/create the notebook and set the notebook kernel to the vnenv you've created (button at the top right of the notebook)\n",
    "\n"
   ]
  },
  {
   "cell_type": "code",
   "execution_count": 3,
   "metadata": {},
   "outputs": [],
   "source": [
    "import coopihc\n"
   ]
  },
  {
   "cell_type": "code",
   "execution_count": null,
   "metadata": {},
   "outputs": [],
   "source": []
  }
 ],
 "metadata": {
  "interpreter": {
   "hash": "57ffde0096d2abf4b63ee05cc9033ab7794ae611ead95357d730cf51b732ea5d"
  },
  "kernelspec": {
   "display_name": "Python 3.9.5 ('venv': venv)",
   "language": "python",
   "name": "python3"
  },
  "language_info": {
   "codemirror_mode": {
    "name": "ipython",
    "version": 3
   },
   "file_extension": ".py",
   "mimetype": "text/x-python",
   "name": "python",
   "nbconvert_exporter": "python",
   "pygments_lexer": "ipython3",
   "version": "3.9.5"
  },
  "orig_nbformat": 4
 },
 "nbformat": 4,
 "nbformat_minor": 2
}
