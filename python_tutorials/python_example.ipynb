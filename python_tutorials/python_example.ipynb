{
 "cells": [
  {
   "cell_type": "raw",
   "metadata": {},
   "source": [
    "---\n",
    "title: Python Notebook demo\n",
    "author: David Mawdsley\n",
    "date: 2022-05-31\n",
    "format:\n",
    "    html:\n",
    "        code-fold: true\n",
    "---\n"
   ]
  },
  {
   "cell_type": "markdown",
   "metadata": {},
   "source": [
    "# Introduction\n",
    "\n",
    "This notebook uses a Jupyter notebook to produce this page.  This was written/edited using vscode \n",
    "\n",
    "## Setup\n",
    "\n",
    "(Most of this is vscode specific)\n",
    "\n",
    "From the terminal create a virtual environment in the `python_tutorials` directory:\n",
    "\n",
    "```{bash}\n",
    "python -m venv venv\n",
    "source venv/bin/activate\n",
    "```\n",
    "\n",
    "Install required modules:\n",
    "\n",
    "\n",
    "```{bash}\n",
    "python -m pip install jupyter ipykernel jupyterlab\n",
    "```\n",
    "\n",
    "(restart vscode if you did the above in a vscode terminal)\n",
    "\n",
    "Load/create the notebook and set the notebook kernel to the vnenv you've created (button at the top right of the notebook)\n",
    "\n"
   ]
  },
  {
   "cell_type": "markdown",
   "metadata": {},
   "source": [
    "## Example coopihc problem\n",
    "\n",
    "This is just cut and pasted from  https://jgori-ouistiti.github.io/CoopIHC/guide/learning.html\n",
    "\n",
    "I couldn't get most of the examples to work in the documentation\n"
   ]
  },
  {
   "cell_type": "code",
   "execution_count": 22,
   "metadata": {},
   "outputs": [],
   "source": [
    "from coopihc.examples.simplepointing.envs import SimplePointingTask\n",
    "from coopihc.examples.simplepointing.users import CarefulPointer\n",
    "from coopihc.examples.simplepointing.assistants import ConstantCDGain\n",
    "from coopihc import State, Bundle\n",
    "\n",
    "\n",
    "task = SimplePointingTask(gridsize=31, number_of_targets=8)\n",
    "\n",
    "unitcdgain = ConstantCDGain(1)\n",
    "\n",
    "\n",
    "# The policy to be trained has the simple action set [-5,-4,-3,-2,-1,0,1,2,3,,4,5]\n",
    "\n",
    "action_state = State()\n",
    "\n",
    "action_state[\"action\"] = discrete_array_element(low=-5, high=5)\n",
    "\n",
    "\n",
    "user = CarefulPointer(override_policy=(BasePolicy, {\"action_state\": action_state}))\n",
    "\n",
    "bundle = Bundle(task=task, user=user, assistant=unitcdgain, reset_go_to=1)\n",
    "\n",
    "observation = bundle.reset()"
   ]
  },
  {
   "cell_type": "code",
   "execution_count": 23,
   "metadata": {},
   "outputs": [
    {
     "name": "stdout",
     "output_type": "stream",
     "text": [
      "----------------  -----------  -------------------------  -------------------\n",
      "game_info         turn_index   1                          CatSet(4) - int8\n",
      "                  round_index  0                          Numeric() - int64\n",
      "task_state        position     10                         Numeric() - int64\n",
      "                  targets      [ 1  5  7 13 14 15 19 22]  Numeric(8,) - int64\n",
      "user_state        goal         15                         Numeric() - int64\n",
      "user_action       action       0                          Numeric() - int64\n",
      "assistant_action  action       1                          CatSet(2) - int64\n",
      "----------------  -----------  -------------------------  -------------------\n"
     ]
    }
   ],
   "source": [
    "print(observation)"
   ]
  },
  {
   "cell_type": "markdown",
   "metadata": {},
   "source": [
    "Link to run it in Binder:\n",
    "\n",
    "[![Binder](https://mybinder.org/badge_logo.svg)](https://mybinder.org/v2/gh/mawds/quarto-tutorial-site/HEAD?labpath=python_tutorials%2Fpython_example.ipynb)\n"
   ]
  }
 ],
 "metadata": {
  "interpreter": {
   "hash": "57ffde0096d2abf4b63ee05cc9033ab7794ae611ead95357d730cf51b732ea5d"
  },
  "kernelspec": {
   "display_name": "Python 3.9.5 ('venv': venv)",
   "language": "python",
   "name": "python3"
  },
  "language_info": {
   "codemirror_mode": {
    "name": "ipython",
    "version": 3
   },
   "file_extension": ".py",
   "mimetype": "text/x-python",
   "name": "python",
   "nbconvert_exporter": "python",
   "pygments_lexer": "ipython3",
   "version": "3.9.5"
  },
  "orig_nbformat": 4
 },
 "nbformat": 4,
 "nbformat_minor": 2
}
