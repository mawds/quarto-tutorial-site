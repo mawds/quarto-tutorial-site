{
 "cells": [
  {
   "cell_type": "raw",
   "metadata": {},
   "source": [
    "---\n",
    "title: Python demo using ELFI\n",
    "author: ELFI\n",
    "date: 2022-06-01\n",
    "format: \n",
    "    html:\n",
    "        code-fold: true\n",
    "jupyter: python3\n",
    "---"
   ]
  },
  {
   "cell_type": "markdown",
   "metadata": {},
   "source": [
    "# This uses the [ELFI]() demo from [here](https://github.com/elfi-dev/notebooks/blob/master/quickstart.ipynb)\n",
    "\n",
    "\n",
    "## Notebook Setup\n",
    "\n",
    "This section contains details of how to use jupyter notebooks within vscode.\n",
    "\n",
    "From the terminal create a virtual environment somewhere approporiate (I've used the `python_tutorials` directory, i.e. where the notebook is stored)\n",
    "\n",
    "```{bash}\n",
    "python -m venv venv\n",
    "source venv/bin/activate\n",
    "```\n",
    "\n",
    "Install modules required:\n",
    "\n",
    "\n",
    "```{bash}\n",
    "python -m pip install jupyter ipykernel jupyterlab\n",
    "```\n",
    "\n",
    "(restart vscode if you did the above in a vscode terminal, so it can pick up the libraries)\n",
    "\n",
    "If you're using VScode: Load/create the notebook and set the notebook kernel to the vnenv you've created (button at the top right of the notebook)\n",
    "\n",
    "Install other libraries into the virtual environment as required (`python -m pip install numpy`, etc.)\n",
    "\n",
    "So others can use your notebooks... generate `requirements.txt` in the root of the repository: `pip freeze >requirements.txt` (putting this in the repo root will mean Binder picks it up when building the binder image)\n",
    "\n",
    "\n",
    "As a new user of the notebook, you can then install the required libraries by activating your own virtual environment and installing the libraries with `pip install -r requirements.txt` \n",
    "\n",
    "\n",
    "### Rendering your notebook using quarto\n",
    "\n",
    "Create a YAML header as the first cell in the notebook, containing information needed for Quarto:\n",
    "\n",
    "```\n",
    "---\n",
    "title: Python demo using ELFI\n",
    "author: ELFI\n",
    "date: 2022-06-01\n",
    "format: \n",
    "    html:\n",
    "        code-fold: true\n",
    "jupyter: python3\n",
    "---\n",
    "\n",
    "```\n",
    "\n",
    "Set this cell type to \"raw\" (Jupyter: Cell, Cell type, Raw NB Convert, vscode: click the language in the lower right of the cell, and change to \"raw\")\n",
    "\n",
    "\n",
    "To render the notebook use: `quarto render` (or `quarto render --execute` to re-run the cells in your notebook)\n",
    "\n",
    "Commit the resulting html files and push to github\n",
    "\n",
    "\n",
    "## Use of binder\n",
    "\n",
    "(This is optional and only needed if you'd like others to be able to play with the underlying notebook code in an interactive environment)\n",
    "\n",
    "* generate binder link: goto https://mybinder.org/  and fill in repo details and location of notebook\n",
    "* paste the generated URL or markdown fragment into your the notebook (or wherever)\n",
    "* Note that the first time the binder is run it'll take a while, as it has to build the environment and its dependencies.  This is cached, so subsequent runs should be quicker\n",
    "\n",
    "Link to this notebook's Binder:\n",
    "\n",
    "[![Binder](https://mybinder.org/badge_logo.svg)](https://mybinder.org/v2/gh/mawds/quarto-tutorial-site/main?labpath=python_tutorials%2Fquickstart.ipynb)\n",
    "\n",
    "\n",
    "\n",
    "## Notes\n",
    "\n",
    "This notebook has `code-fold: true` to hide code by default; we can override this on a cell by cell basis with the special `#|` comment, e.g. `#|code-fold: false`.\n",
    "\n",
    "This page lists the options we can apply to each cell: https://quarto.org/docs/reference/cells/cells-jupyter.html\n",
    "\n"
   ]
  },
  {
   "cell_type": "markdown",
   "metadata": {},
   "source": [
    "# Quickstart\n",
    "\n",
    "First ensure you have [installed](http://elfi.readthedocs.io/en/stable/installation.html) Python 3.5 (or greater) and ELFI. After installation you can start using ELFI:"
   ]
  },
  {
   "cell_type": "code",
   "execution_count": 1,
   "metadata": {},
   "outputs": [],
   "source": [
    "import elfi"
   ]
  },
  {
   "cell_type": "markdown",
   "metadata": {},
   "source": [
    "ELFI includes an easy to use generative modeling syntax, where the generative model is specified as a directed acyclic graph (DAG). Let’s create two prior nodes:\n",
    "\n",
    "> we use the code-fold option discussed above, so the user can always see this code"
   ]
  },
  {
   "cell_type": "code",
   "execution_count": 2,
   "metadata": {},
   "outputs": [],
   "source": [
    "#| code-fold: false\n",
    "mu = elfi.Prior('uniform', -2, 4)\n",
    "sigma = elfi.Prior('uniform', 1, 4)"
   ]
  },
  {
   "cell_type": "markdown",
   "metadata": {},
   "source": [
    "The above would create two prior nodes, a uniform distribution from -2 to 2 for the mean `mu` and another uniform distribution from 1 to 5 for the standard deviation `sigma`. All distributions from `scipy.stats` are available.\n",
    "\n",
    "For likelihood-free models we typically need to define a simulator and summary statistics for the data. As an example, lets define the simulator as 30 draws from a Gaussian distribution with a given mean and standard deviation. Let's use mean and variance as our summaries:"
   ]
  },
  {
   "cell_type": "code",
   "execution_count": 3,
   "metadata": {},
   "outputs": [],
   "source": [
    "import scipy.stats as ss\n",
    "import numpy as np\n",
    "\n",
    "def simulator(mu, sigma, batch_size=1, random_state=None):\n",
    "    mu, sigma = np.atleast_1d(mu, sigma)\n",
    "    return ss.norm.rvs(mu[:, None], sigma[:, None], size=(batch_size, 30), random_state=random_state)\n",
    "\n",
    "def mean(y):\n",
    "    return np.mean(y, axis=1)\n",
    "\n",
    "def var(y):\n",
    "    return np.var(y, axis=1)"
   ]
  },
  {
   "cell_type": "markdown",
   "metadata": {},
   "source": [
    "Let’s now assume we have some observed data `y0` (here we just create some with the simulator):"
   ]
  },
  {
   "cell_type": "code",
   "execution_count": 4,
   "metadata": {},
   "outputs": [
    {
     "name": "stdout",
     "output_type": "stream",
     "text": [
      "[[ 3.7990926   1.49411834  0.90999905  2.46088006 -0.10696721  0.80490023\n",
      "   0.7413415  -5.07258261  0.89397268  3.55462229  0.45888389 -3.31930036\n",
      "  -0.55378741  3.00865492  1.59394854 -3.37065996  5.03883749 -2.73279084\n",
      "   6.10128027  5.09388631  1.90079255 -1.7161259   3.86821266  0.4963219\n",
      "   1.64594033 -2.51620566 -0.83601666  2.68225112  2.75598375 -6.02538356]]\n"
     ]
    }
   ],
   "source": [
    "# Set the generating parameters that we will try to infer\n",
    "mean0 = 1\n",
    "std0 = 3\n",
    "\n",
    "# Generate some data (using a fixed seed here)\n",
    "np.random.seed(20170525) \n",
    "y0 = simulator(mean0, std0)\n",
    "print(y0)"
   ]
  },
  {
   "cell_type": "markdown",
   "metadata": {},
   "source": [
    "Now we have all the components needed. Let’s complete our model by adding the simulator, the observed data, summaries and a distance to our model:"
   ]
  },
  {
   "cell_type": "code",
   "execution_count": 5,
   "metadata": {},
   "outputs": [],
   "source": [
    "# Add the simulator node and observed data to the model\n",
    "sim = elfi.Simulator(simulator, mu, sigma, observed=y0)\n",
    "\n",
    "# Add summary statistics to the model\n",
    "S1 = elfi.Summary(mean, sim)\n",
    "S2 = elfi.Summary(var, sim)\n",
    "\n",
    "# Specify distance as euclidean between summary vectors (S1, S2) from simulated and\n",
    "# observed data\n",
    "d = elfi.Distance('euclidean', S1, S2)"
   ]
  },
  {
   "cell_type": "markdown",
   "metadata": {},
   "source": [
    "If you have `graphviz` installed to your system, you can also visualize the model:"
   ]
  },
  {
   "cell_type": "code",
   "execution_count": 6,
   "metadata": {},
   "outputs": [
    {
     "data": {
      "image/svg+xml": [
       "<?xml version=\"1.0\" encoding=\"UTF-8\" standalone=\"no\"?>\n",
       "<!DOCTYPE svg PUBLIC \"-//W3C//DTD SVG 1.1//EN\"\n",
       " \"http://www.w3.org/Graphics/SVG/1.1/DTD/svg11.dtd\">\n",
       "<!-- Generated by graphviz version 2.43.0 (0)\n",
       " -->\n",
       "<!-- Title: %3 Pages: 1 -->\n",
       "<svg width=\"154pt\" height=\"329pt\"\n",
       " viewBox=\"0.00 0.00 153.69 328.78\" xmlns=\"http://www.w3.org/2000/svg\" xmlns:xlink=\"http://www.w3.org/1999/xlink\">\n",
       "<g id=\"graph0\" class=\"graph\" transform=\"scale(1 1) rotate(0) translate(4 324.78)\">\n",
       "<title>%3</title>\n",
       "<polygon fill=\"white\" stroke=\"transparent\" points=\"-4,4 -4,-324.78 149.69,-324.78 149.69,4 -4,4\"/>\n",
       "<!-- mu -->\n",
       "<g id=\"node1\" class=\"node\">\n",
       "<title>mu</title>\n",
       "<ellipse fill=\"none\" stroke=\"black\" cx=\"25.35\" cy=\"-282.44\" rx=\"25.2\" ry=\"25.2\"/>\n",
       "<text text-anchor=\"middle\" x=\"25.35\" y=\"-278.74\" font-family=\"Times,serif\" font-size=\"14.00\">mu</text>\n",
       "</g>\n",
       "<!-- sim -->\n",
       "<g id=\"node3\" class=\"node\">\n",
       "<title>sim</title>\n",
       "<ellipse fill=\"#cccccc\" stroke=\"black\" cx=\"66.35\" cy=\"-180.79\" rx=\"27.1\" ry=\"27.1\"/>\n",
       "<text text-anchor=\"middle\" x=\"66.35\" y=\"-177.09\" font-family=\"Times,serif\" font-size=\"14.00\">sim</text>\n",
       "</g>\n",
       "<!-- mu&#45;&gt;sim -->\n",
       "<g id=\"edge1\" class=\"edge\">\n",
       "<title>mu&#45;&gt;sim</title>\n",
       "<path fill=\"none\" stroke=\"black\" d=\"M34.65,-258.83C39.87,-246.14 46.49,-230.05 52.33,-215.86\"/>\n",
       "<polygon fill=\"black\" stroke=\"black\" points=\"55.65,-216.99 56.22,-206.41 49.18,-214.32 55.65,-216.99\"/>\n",
       "</g>\n",
       "<!-- sigma -->\n",
       "<g id=\"node2\" class=\"node\">\n",
       "<title>sigma</title>\n",
       "<ellipse fill=\"none\" stroke=\"black\" cx=\"107.35\" cy=\"-282.44\" rx=\"38.19\" ry=\"38.19\"/>\n",
       "<text text-anchor=\"middle\" x=\"107.35\" y=\"-278.74\" font-family=\"Times,serif\" font-size=\"14.00\">sigma</text>\n",
       "</g>\n",
       "<!-- sigma&#45;&gt;sim -->\n",
       "<g id=\"edge2\" class=\"edge\">\n",
       "<title>sigma&#45;&gt;sim</title>\n",
       "<path fill=\"none\" stroke=\"black\" d=\"M93.01,-246.59C88.92,-236.65 84.47,-225.84 80.4,-215.95\"/>\n",
       "<polygon fill=\"black\" stroke=\"black\" points=\"83.53,-214.35 76.49,-206.43 77.05,-217.01 83.53,-214.35\"/>\n",
       "</g>\n",
       "<!-- S1 -->\n",
       "<g id=\"node4\" class=\"node\">\n",
       "<title>S1</title>\n",
       "<ellipse fill=\"#cccccc\" stroke=\"black\" cx=\"35.35\" cy=\"-94.75\" rx=\"23\" ry=\"23\"/>\n",
       "<text text-anchor=\"middle\" x=\"35.35\" y=\"-91.05\" font-family=\"Times,serif\" font-size=\"14.00\">S1</text>\n",
       "</g>\n",
       "<!-- sim&#45;&gt;S1 -->\n",
       "<g id=\"edge3\" class=\"edge\">\n",
       "<title>sim&#45;&gt;S1</title>\n",
       "<path fill=\"none\" stroke=\"black\" d=\"M57.21,-155.03C53.85,-145.9 50,-135.46 46.47,-125.91\"/>\n",
       "<polygon fill=\"black\" stroke=\"black\" points=\"49.7,-124.54 42.95,-116.37 43.13,-126.96 49.7,-124.54\"/>\n",
       "</g>\n",
       "<!-- S2 -->\n",
       "<g id=\"node5\" class=\"node\">\n",
       "<title>S2</title>\n",
       "<ellipse fill=\"#cccccc\" stroke=\"black\" cx=\"98.35\" cy=\"-94.75\" rx=\"23\" ry=\"23\"/>\n",
       "<text text-anchor=\"middle\" x=\"98.35\" y=\"-91.05\" font-family=\"Times,serif\" font-size=\"14.00\">S2</text>\n",
       "</g>\n",
       "<!-- sim&#45;&gt;S2 -->\n",
       "<g id=\"edge4\" class=\"edge\">\n",
       "<title>sim&#45;&gt;S2</title>\n",
       "<path fill=\"none\" stroke=\"black\" d=\"M75.78,-155.03C79.25,-145.9 83.23,-135.46 86.86,-125.91\"/>\n",
       "<polygon fill=\"black\" stroke=\"black\" points=\"90.21,-126.96 90.5,-116.37 83.67,-124.47 90.21,-126.96\"/>\n",
       "</g>\n",
       "<!-- d -->\n",
       "<g id=\"node6\" class=\"node\">\n",
       "<title>d</title>\n",
       "<ellipse fill=\"none\" stroke=\"black\" cx=\"66.35\" cy=\"-18\" rx=\"18\" ry=\"18\"/>\n",
       "<text text-anchor=\"middle\" x=\"66.35\" y=\"-14.3\" font-family=\"Times,serif\" font-size=\"14.00\">d</text>\n",
       "</g>\n",
       "<!-- S1&#45;&gt;d -->\n",
       "<g id=\"edge5\" class=\"edge\">\n",
       "<title>S1&#45;&gt;d</title>\n",
       "<path fill=\"none\" stroke=\"black\" d=\"M43.82,-73.32C47.54,-64.34 51.96,-53.7 55.89,-44.23\"/>\n",
       "<polygon fill=\"black\" stroke=\"black\" points=\"59.16,-45.48 59.75,-34.9 52.69,-42.79 59.16,-45.48\"/>\n",
       "</g>\n",
       "<!-- S2&#45;&gt;d -->\n",
       "<g id=\"edge6\" class=\"edge\">\n",
       "<title>S2&#45;&gt;d</title>\n",
       "<path fill=\"none\" stroke=\"black\" d=\"M89.6,-73.32C85.76,-64.34 81.2,-53.7 77.15,-44.23\"/>\n",
       "<polygon fill=\"black\" stroke=\"black\" points=\"80.31,-42.71 73.15,-34.9 73.87,-45.47 80.31,-42.71\"/>\n",
       "</g>\n",
       "</g>\n",
       "</svg>\n"
      ],
      "text/plain": [
       "<graphviz.graphs.Digraph at 0x7f24b0742820>"
      ]
     },
     "execution_count": 6,
     "metadata": {},
     "output_type": "execute_result"
    }
   ],
   "source": [
    "# Plot the complete model (requires graphviz)\n",
    "elfi.draw(d)"
   ]
  },
  {
   "cell_type": "raw",
   "metadata": {},
   "source": [
    ".. Note:: The automatic naming of nodes may not work in all environments e.g. in interactive Python shells. You can alternatively provide a name argument for the nodes, e.g. ``S1 = elfi.Summary(mean, sim, name='S1')``."
   ]
  },
  {
   "cell_type": "markdown",
   "metadata": {},
   "source": [
    "We can try to infer the true generating parameters `mean0` and `std0` above with any of ELFI’s inference methods. Let’s use ABC Rejection sampling and sample 1000 samples from the approximate posterior using threshold value 0.5:"
   ]
  },
  {
   "cell_type": "code",
   "execution_count": 7,
   "metadata": {},
   "outputs": [
    {
     "name": "stdout",
     "output_type": "stream",
     "text": [
      "Progress [===-----------------------------------------------] 7.1% Complete\r",
      "Progress [=======-------------------------------------------] 15.4% Complete\r",
      "Progress [============--------------------------------------] 25.0% Complete\r",
      "Progress [================----------------------------------] 33.3% Complete\r",
      "Progress [====================------------------------------] 41.7% Complete\r",
      "Progress [=======================---------------------------] 46.2% Complete\r",
      "Progress [=============================---------------------] 58.3% Complete\r",
      "Progress [=================================-----------------] 66.7% Complete\r",
      "Progress [=====================================-------------] 75.0% Complete\r"
     ]
    },
    {
     "name": "stdout",
     "output_type": "stream",
     "text": [
      "Progress [=========================================---------] 83.3% Complete\r",
      "Progress [=============================================-----] 91.7% Complete\r",
      "Progress [==================================================] 100.0% Complete\n",
      "Method: Rejection\n",
      "Number of samples: 1000\n",
      "Number of simulations: 120000\n",
      "Threshold: 0.492\n",
      "Sample means: mu: 0.748, sigma: 3.1\n",
      "\n"
     ]
    }
   ],
   "source": [
    "rej = elfi.Rejection(d, batch_size=10000, seed=30052017)\n",
    "res = rej.sample(1000, threshold=.5)\n",
    "print(res)"
   ]
  },
  {
   "cell_type": "markdown",
   "metadata": {},
   "source": [
    "Let's plot also the marginal distributions for the parameters:"
   ]
  },
  {
   "cell_type": "code",
   "execution_count": 8,
   "metadata": {},
   "outputs": [
    {
     "data": {
      "image/png": "[encoded data removed]",
      "text/plain": [
       "<Figure size 576x288 with 2 Axes>"
      ]
     },
     "metadata": {
      "image/png": {
       "height": 271,
       "width": 545
      },
      "needs_background": "light"
     },
     "output_type": "display_data"
    }
   ],
   "source": [
    "import matplotlib.pyplot as plt\n",
    "res.plot_marginals()\n",
    "plt.show()"
   ]
  },
  {
   "cell_type": "raw",
   "metadata": {},
   "source": []
  }
 ],
 "metadata": {
  "interpreter": {
   "hash": "57ffde0096d2abf4b63ee05cc9033ab7794ae611ead95357d730cf51b732ea5d"
  },
  "kernelspec": {
   "display_name": "Python 3 (ipykernel)",
   "language": "python",
   "name": "python3"
  },
  "language_info": {
   "codemirror_mode": {
    "name": "ipython",
    "version": 3
   },
   "file_extension": ".py",
   "mimetype": "text/x-python",
   "name": "python",
   "nbconvert_exporter": "python",
   "pygments_lexer": "ipython3",
   "version": "3.9.5"
  }
 },
 "nbformat": 4,
 "nbformat_minor": 1
}
