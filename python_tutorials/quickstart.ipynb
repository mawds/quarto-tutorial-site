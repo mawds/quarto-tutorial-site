{
 "cells": [
  {
   "cell_type": "raw",
   "metadata": {},
   "source": [
    "---\n",
    "title: Python demo using ELFI\n",
    "author: ELFI\n",
    "date: 2022-06-01\n",
    "format: \n",
    "    html:\n",
    "        code-fold: true\n",
    "jupyter: python3\n",
    "---"
   ]
  },
  {
   "cell_type": "markdown",
   "metadata": {},
   "source": [
    "# This uses the [ELFI]() demo from [here](https://github.com/elfi-dev/notebooks/blob/master/quickstart.ipynb)\n",
    "\n",
    "To setup a notebook page in quarto:\n",
    "\n",
    "* Activate your virtual environment\n",
    "* Install required libraries\n",
    "* If you want the user to be able to edit it in binder\n",
    "    * generate `requirements.txt` in the root of the reporistory directory `pip freeze >requirements.txt` (this will mean Binder picks it up when building the binder image)\n",
    "    * generate binder link: goto https://mybinder.org/  and fill in repo details and location of notebook\n",
    "    * paste the generated URL or markdown fragment into the notebook (or wherever)\n",
    "    * Note that the first time the binder is run it'll take a while, as it has to build the environment and its dependencies.  This is cached, so subsequent runs should be quicker\n",
    "\n",
    "\n",
    "[![Binder](https://mybinder.org/badge_logo.svg)](https://mybinder.org/v2/gh/mawds/quarto-tutorial-site/HEAD?labpath=python_tutorials%2Fquickstart.ipynb)\n"
   ]
  },
  {
   "cell_type": "markdown",
   "metadata": {},
   "source": [
    "# Quickstart\n",
    "\n",
    "First ensure you have [installed](http://elfi.readthedocs.io/en/stable/installation.html) Python 3.5 (or greater) and ELFI. After installation you can start using ELFI:"
   ]
  },
  {
   "cell_type": "code",
   "execution_count": 7,
   "metadata": {
    "collapsed": true
   },
   "outputs": [],
   "source": [
    "import elfi"
   ]
  },
  {
   "cell_type": "markdown",
   "metadata": {},
   "source": [
    "ELFI includes an easy to use generative modeling syntax, where the generative model is specified as a directed acyclic graph (DAG). Let’s create two prior nodes:"
   ]
  },
  {
   "cell_type": "code",
   "execution_count": 8,
   "metadata": {
    "collapsed": true
   },
   "outputs": [],
   "source": [
    "mu = elfi.Prior('uniform', -2, 4)\n",
    "sigma = elfi.Prior('uniform', 1, 4)"
   ]
  },
  {
   "cell_type": "markdown",
   "metadata": {},
   "source": [
    "The above would create two prior nodes, a uniform distribution from -2 to 2 for the mean `mu` and another uniform distribution from 1 to 5 for the standard deviation `sigma`. All distributions from `scipy.stats` are available.\n",
    "\n",
    "For likelihood-free models we typically need to define a simulator and summary statistics for the data. As an example, lets define the simulator as 30 draws from a Gaussian distribution with a given mean and standard deviation. Let's use mean and variance as our summaries:"
   ]
  },
  {
   "cell_type": "code",
   "execution_count": 9,
   "metadata": {
    "collapsed": true
   },
   "outputs": [],
   "source": [
    "import scipy.stats as ss\n",
    "import numpy as np\n",
    "\n",
    "def simulator(mu, sigma, batch_size=1, random_state=None):\n",
    "    mu, sigma = np.atleast_1d(mu, sigma)\n",
    "    return ss.norm.rvs(mu[:, None], sigma[:, None], size=(batch_size, 30), random_state=random_state)\n",
    "\n",
    "def mean(y):\n",
    "    return np.mean(y, axis=1)\n",
    "\n",
    "def var(y):\n",
    "    return np.var(y, axis=1)"
   ]
  },
  {
   "cell_type": "markdown",
   "metadata": {},
   "source": [
    "Let’s now assume we have some observed data `y0` (here we just create some with the simulator):"
   ]
  },
  {
   "cell_type": "code",
   "execution_count": 10,
   "metadata": {
    "collapsed": false
   },
   "outputs": [
    {
     "name": "stdout",
     "output_type": "stream",
     "text": [
      "[[ 3.7990926   1.49411834  0.90999905  2.46088006 -0.10696721  0.80490023\n",
      "   0.7413415  -5.07258261  0.89397268  3.55462229  0.45888389 -3.31930036\n",
      "  -0.55378741  3.00865492  1.59394854 -3.37065996  5.03883749 -2.73279084\n",
      "   6.10128027  5.09388631  1.90079255 -1.7161259   3.86821266  0.4963219\n",
      "   1.64594033 -2.51620566 -0.83601666  2.68225112  2.75598375 -6.02538356]]\n"
     ]
    }
   ],
   "source": [
    "# Set the generating parameters that we will try to infer\n",
    "mean0 = 1\n",
    "std0 = 3\n",
    "\n",
    "# Generate some data (using a fixed seed here)\n",
    "np.random.seed(20170525) \n",
    "y0 = simulator(mean0, std0)\n",
    "print(y0)"
   ]
  },
  {
   "cell_type": "markdown",
   "metadata": {},
   "source": [
    "Now we have all the components needed. Let’s complete our model by adding the simulator, the observed data, summaries and a distance to our model:"
   ]
  },
  {
   "cell_type": "code",
   "execution_count": 11,
   "metadata": {
    "collapsed": true
   },
   "outputs": [],
   "source": [
    "# Add the simulator node and observed data to the model\n",
    "sim = elfi.Simulator(simulator, mu, sigma, observed=y0)\n",
    "\n",
    "# Add summary statistics to the model\n",
    "S1 = elfi.Summary(mean, sim)\n",
    "S2 = elfi.Summary(var, sim)\n",
    "\n",
    "# Specify distance as euclidean between summary vectors (S1, S2) from simulated and\n",
    "# observed data\n",
    "d = elfi.Distance('euclidean', S1, S2)"
   ]
  },
  {
   "cell_type": "markdown",
   "metadata": {},
   "source": [
    "If you have `graphviz` installed to your system, you can also visualize the model:"
   ]
  },
  {
   "cell_type": "code",
   "execution_count": 12,
   "metadata": {
    "collapsed": false
   },
   "outputs": [
    {
     "data": {
      "image/svg+xml": "<?xml version=\"1.0\" encoding=\"UTF-8\" standalone=\"no\"?>\n<!DOCTYPE svg PUBLIC \"-//W3C//DTD SVG 1.1//EN\"\n \"http://www.w3.org/Graphics/SVG/1.1/DTD/svg11.dtd\">\n<!-- Generated by graphviz version 2.43.0 (0)\n -->\n<!-- Title: %3 Pages: 1 -->\n<svg width=\"545pt\" height=\"757pt\"\n viewBox=\"0.00 0.00 544.79 756.84\" xmlns=\"http://www.w3.org/2000/svg\" xmlns:xlink=\"http://www.w3.org/1999/xlink\">\n<g id=\"graph0\" class=\"graph\" transform=\"scale(1 1) rotate(0) translate(4 752.84)\">\n<title>%3</title>\n<polygon fill=\"white\" stroke=\"transparent\" points=\"-4,4 -4,-752.84 540.79,-752.84 540.79,4 -4,4\"/>\n<!-- mu -->\n<g id=\"node1\" class=\"node\">\n<title>mu</title>\n<ellipse fill=\"none\" stroke=\"black\" cx=\"25.35\" cy=\"-683.2\" rx=\"25.2\" ry=\"25.2\"/>\n<text text-anchor=\"middle\" x=\"25.35\" y=\"-679.5\" font-family=\"Times,serif\" font-size=\"14.00\">mu</text>\n</g>\n<!-- sim -->\n<g id=\"node3\" class=\"node\">\n<title>sim</title>\n<ellipse fill=\"#cccccc\" stroke=\"black\" cx=\"54.35\" cy=\"-494.46\" rx=\"27.1\" ry=\"27.1\"/>\n<text text-anchor=\"middle\" x=\"54.35\" y=\"-490.76\" font-family=\"Times,serif\" font-size=\"14.00\">sim</text>\n</g>\n<!-- mu&#45;&gt;sim -->\n<g id=\"edge1\" class=\"edge\">\n<title>mu&#45;&gt;sim</title>\n<path fill=\"none\" stroke=\"black\" d=\"M29.14,-657.79C34.13,-625.62 42.96,-568.77 48.73,-531.61\"/>\n<polygon fill=\"black\" stroke=\"black\" points=\"52.2,-532.1 50.28,-521.69 45.28,-531.03 52.2,-532.1\"/>\n</g>\n<!-- sigma -->\n<g id=\"node2\" class=\"node\">\n<title>sigma</title>\n<ellipse fill=\"none\" stroke=\"black\" cx=\"107.35\" cy=\"-683.2\" rx=\"38.19\" ry=\"38.19\"/>\n<text text-anchor=\"middle\" x=\"107.35\" y=\"-679.5\" font-family=\"Times,serif\" font-size=\"14.00\">sigma</text>\n</g>\n<!-- sigma&#45;&gt;sim -->\n<g id=\"edge2\" class=\"edge\">\n<title>sigma&#45;&gt;sim</title>\n<path fill=\"none\" stroke=\"black\" d=\"M97.13,-646.19C87.67,-612.87 73.69,-563.62 64.31,-530.58\"/>\n<polygon fill=\"black\" stroke=\"black\" points=\"67.66,-529.54 61.56,-520.88 60.92,-531.45 67.66,-529.54\"/>\n</g>\n<!-- S1 -->\n<g id=\"node4\" class=\"node\">\n<title>S1</title>\n<ellipse fill=\"#cccccc\" stroke=\"black\" cx=\"37.35\" cy=\"-284.93\" rx=\"23\" ry=\"23\"/>\n<text text-anchor=\"middle\" x=\"37.35\" y=\"-281.23\" font-family=\"Times,serif\" font-size=\"14.00\">S1</text>\n</g>\n<!-- sim&#45;&gt;S1 -->\n<g id=\"edge3\" class=\"edge\">\n<title>sim&#45;&gt;S1</title>\n<path fill=\"none\" stroke=\"black\" d=\"M52.19,-467.18C49.08,-429.15 43.32,-358.87 39.97,-317.89\"/>\n<polygon fill=\"black\" stroke=\"black\" points=\"43.45,-317.58 39.15,-307.9 36.48,-318.15 43.45,-317.58\"/>\n</g>\n<!-- S2 -->\n<g id=\"node5\" class=\"node\">\n<title>S2</title>\n<ellipse fill=\"#cccccc\" stroke=\"black\" cx=\"100.35\" cy=\"-284.93\" rx=\"23\" ry=\"23\"/>\n<text text-anchor=\"middle\" x=\"100.35\" y=\"-281.23\" font-family=\"Times,serif\" font-size=\"14.00\">S2</text>\n</g>\n<!-- sim&#45;&gt;S2 -->\n<g id=\"edge4\" class=\"edge\">\n<title>sim&#45;&gt;S2</title>\n<path fill=\"none\" stroke=\"black\" d=\"M60.08,-467.6C68.52,-429.51 84.28,-358.44 93.37,-317.39\"/>\n<polygon fill=\"black\" stroke=\"black\" points=\"96.84,-317.91 95.59,-307.39 90.01,-316.4 96.84,-317.91\"/>\n</g>\n<!-- d -->\n<g id=\"node6\" class=\"node\">\n<title>d</title>\n<ellipse fill=\"none\" stroke=\"black\" cx=\"69.35\" cy=\"-81.24\" rx=\"18\" ry=\"18\"/>\n<text text-anchor=\"middle\" x=\"69.35\" y=\"-77.54\" font-family=\"Times,serif\" font-size=\"14.00\">d</text>\n</g>\n<!-- S1&#45;&gt;d -->\n<g id=\"edge5\" class=\"edge\">\n<title>S1&#45;&gt;d</title>\n<path fill=\"none\" stroke=\"black\" d=\"M40.77,-262.34C46.65,-225.31 58.64,-149.75 65.06,-109.27\"/>\n<polygon fill=\"black\" stroke=\"black\" points=\"68.53,-109.74 66.64,-99.31 61.62,-108.64 68.53,-109.74\"/>\n</g>\n<!-- S2&#45;&gt;d -->\n<g id=\"edge6\" class=\"edge\">\n<title>S2&#45;&gt;d</title>\n<path fill=\"none\" stroke=\"black\" d=\"M97.03,-262.34C91.34,-225.31 79.72,-149.75 73.5,-109.27\"/>\n<polygon fill=\"black\" stroke=\"black\" points=\"76.95,-108.67 71.97,-99.31 70.03,-109.73 76.95,-108.67\"/>\n</g>\n<!-- _prior_9a96 -->\n<g id=\"node7\" class=\"node\">\n<title>_prior_9a96</title>\n<ellipse fill=\"none\" stroke=\"black\" cx=\"263.35\" cy=\"-683.2\" rx=\"65.79\" ry=\"65.79\"/>\n<text text-anchor=\"middle\" x=\"263.35\" y=\"-679.5\" font-family=\"Times,serif\" font-size=\"14.00\">_prior_9a96</text>\n</g>\n<!-- _simulator_400e -->\n<g id=\"node9\" class=\"node\">\n<title>_simulator_400e</title>\n<ellipse fill=\"#cccccc\" stroke=\"black\" cx=\"287.35\" cy=\"-494.46\" rx=\"87.18\" ry=\"87.18\"/>\n<text text-anchor=\"middle\" x=\"287.35\" y=\"-490.76\" font-family=\"Times,serif\" font-size=\"14.00\">_simulator_400e</text>\n</g>\n<!-- _prior_9a96&#45;&gt;_simulator_400e -->\n<g id=\"edge7\" class=\"edge\">\n<title>_prior_9a96&#45;&gt;_simulator_400e</title>\n<path fill=\"none\" stroke=\"black\" d=\"M271.61,-617.93C272.73,-609.18 273.91,-600.05 275.08,-590.89\"/>\n<polygon fill=\"black\" stroke=\"black\" points=\"278.56,-591.32 276.36,-580.95 271.61,-590.42 278.56,-591.32\"/>\n</g>\n<!-- _prior_f596 -->\n<g id=\"node8\" class=\"node\">\n<title>_prior_f596</title>\n<ellipse fill=\"none\" stroke=\"black\" cx=\"410.35\" cy=\"-683.2\" rx=\"63.89\" ry=\"63.89\"/>\n<text text-anchor=\"middle\" x=\"410.35\" y=\"-679.5\" font-family=\"Times,serif\" font-size=\"14.00\">_prior_f596</text>\n</g>\n<!-- _prior_f596&#45;&gt;_simulator_400e -->\n<g id=\"edge8\" class=\"edge\">\n<title>_prior_f596&#45;&gt;_simulator_400e</title>\n<path fill=\"none\" stroke=\"black\" d=\"M375.76,-629.69C364.89,-613.18 352.62,-594.56 340.76,-576.56\"/>\n<polygon fill=\"black\" stroke=\"black\" points=\"343.41,-574.21 334.98,-567.78 337.56,-578.06 343.41,-574.21\"/>\n</g>\n<!-- _summary_d975 -->\n<g id=\"node10\" class=\"node\">\n<title>_summary_d975</title>\n<ellipse fill=\"#cccccc\" stroke=\"black\" cx=\"259.35\" cy=\"-284.93\" rx=\"86.38\" ry=\"86.38\"/>\n<text text-anchor=\"middle\" x=\"259.35\" y=\"-281.23\" font-family=\"Times,serif\" font-size=\"14.00\">_summary_d975</text>\n</g>\n<!-- _simulator_400e&#45;&gt;_summary_d975 -->\n<g id=\"edge9\" class=\"edge\">\n<title>_simulator_400e&#45;&gt;_summary_d975</title>\n<path fill=\"none\" stroke=\"black\" d=\"M275.8,-407.85C274.59,-398.93 273.36,-389.82 272.15,-380.8\"/>\n<polygon fill=\"black\" stroke=\"black\" points=\"275.59,-380.11 270.78,-370.67 268.65,-381.05 275.59,-380.11\"/>\n</g>\n<!-- _summary_6b5d -->\n<g id=\"node11\" class=\"node\">\n<title>_summary_6b5d</title>\n<ellipse fill=\"#cccccc\" stroke=\"black\" cx=\"450.35\" cy=\"-284.93\" rx=\"86.38\" ry=\"86.38\"/>\n<text text-anchor=\"middle\" x=\"450.35\" y=\"-281.23\" font-family=\"Times,serif\" font-size=\"14.00\">_summary_6b5d</text>\n</g>\n<!-- _simulator_400e&#45;&gt;_summary_6b5d -->\n<g id=\"edge10\" class=\"edge\">\n<title>_simulator_400e&#45;&gt;_summary_6b5d</title>\n<path fill=\"none\" stroke=\"black\" d=\"M340.72,-425.51C356.86,-404.96 374.67,-382.28 391.16,-361.28\"/>\n<polygon fill=\"black\" stroke=\"black\" points=\"393.99,-363.35 397.41,-353.33 388.48,-359.03 393.99,-363.35\"/>\n</g>\n<!-- _distance_2a41 -->\n<g id=\"node12\" class=\"node\">\n<title>_distance_2a41</title>\n<ellipse fill=\"none\" stroke=\"black\" cx=\"354.35\" cy=\"-81.24\" rx=\"81.49\" ry=\"81.49\"/>\n<text text-anchor=\"middle\" x=\"354.35\" y=\"-77.54\" font-family=\"Times,serif\" font-size=\"14.00\">_distance_2a41</text>\n</g>\n<!-- _summary_d975&#45;&gt;_distance_2a41 -->\n<g id=\"edge11\" class=\"edge\">\n<title>_summary_d975&#45;&gt;_distance_2a41</title>\n<path fill=\"none\" stroke=\"black\" d=\"M295.81,-206.53C302.33,-192.68 309.15,-178.2 315.73,-164.23\"/>\n<polygon fill=\"black\" stroke=\"black\" points=\"318.92,-165.67 320.02,-155.13 312.59,-162.68 318.92,-165.67\"/>\n</g>\n<!-- _summary_6b5d&#45;&gt;_distance_2a41 -->\n<g id=\"edge12\" class=\"edge\">\n<title>_summary_6b5d&#45;&gt;_distance_2a41</title>\n<path fill=\"none\" stroke=\"black\" d=\"M413.51,-206.53C406.87,-192.59 399.93,-178.01 393.24,-163.95\"/>\n<polygon fill=\"black\" stroke=\"black\" points=\"396.34,-162.32 388.88,-154.8 390.02,-165.33 396.34,-162.32\"/>\n</g>\n</g>\n</svg>\n",
      "text/plain": [
       "<graphviz.graphs.Digraph at 0x7f9a2ade8a30>"
      ]
     },
     "execution_count": 12,
     "metadata": {},
     "output_type": "execute_result"
    }
   ],
   "source": [
    "# Plot the complete model (requires graphviz)\n",
    "elfi.draw(d)"
   ]
  },
  {
   "cell_type": "raw",
   "metadata": {},
   "source": [
    ".. Note:: The automatic naming of nodes may not work in all environments e.g. in interactive Python shells. You can alternatively provide a name argument for the nodes, e.g. ``S1 = elfi.Summary(mean, sim, name='S1')``."
   ]
  },
  {
   "cell_type": "markdown",
   "metadata": {},
   "source": [
    "We can try to infer the true generating parameters `mean0` and `std0` above with any of ELFI’s inference methods. Let’s use ABC Rejection sampling and sample 1000 samples from the approximate posterior using threshold value 0.5:"
   ]
  },
  {
   "cell_type": "code",
   "execution_count": 13,
   "metadata": {
    "collapsed": false
   },
   "outputs": [
    {
     "name": "stdout",
     "output_type": "stream",
     "text": [
      "Progress [==================================================] 100.0% Complete\n",
      "Method: Rejection\n",
      "Number of samples: 1000\n",
      "Number of simulations: 120000\n",
      "Threshold: 0.487\n",
      "Sample means: _prior_9a96: 0.713, _prior_f596: 3.13, mu: -0.024, sigma: 3.09\n",
      "\n"
     ]
    }
   ],
   "source": [
    "rej = elfi.Rejection(d, batch_size=10000, seed=30052017)\n",
    "res = rej.sample(1000, threshold=.5)\n",
    "print(res)"
   ]
  },
  {
   "cell_type": "markdown",
   "metadata": {},
   "source": [
    "Let's plot also the marginal distributions for the parameters:"
   ]
  },
  {
   "cell_type": "code",
   "execution_count": 14,
   "metadata": {
    "collapsed": false
   },
   "outputs": [
    {
     "data": {
      "image/png": "[encoded data removed]",
      "text/plain": [
       "<Figure size 1152x288 with 4 Axes>"
      ]
     },
     "metadata": {
      "needs_background": "light"
     },
     "output_type": "display_data"
    }
   ],
   "source": [
    "import matplotlib.pyplot as plt\n",
    "res.plot_marginals()\n",
    "plt.show()"
   ]
  }
 ],
 "metadata": {
  "interpreter": {
   "hash": "57ffde0096d2abf4b63ee05cc9033ab7794ae611ead95357d730cf51b732ea5d"
  },
  "kernelspec": {
   "display_name": "Python 3.9.5 ('venv': venv)",
   "language": "python",
   "name": "python3"
  },
  "language_info": {
   "codemirror_mode": {
    "name": "ipython",
    "version": 3
   },
   "file_extension": ".py",
   "mimetype": "text/x-python",
   "name": "python",
   "nbconvert_exporter": "python",
   "pygments_lexer": "ipython3",
   "version": "3.9.5"
  }
 },
 "nbformat": 4,
 "nbformat_minor": 1
}
