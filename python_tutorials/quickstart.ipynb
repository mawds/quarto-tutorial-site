{
 "cells": [
  {
   "cell_type": "raw",
   "metadata": {},
   "source": [
    "---\n",
    "title: Python demo using ELFI\n",
    "author: ELFI\n",
    "date: 2022-06-01\n",
    "format: \n",
    "    html:\n",
    "        code-fold: true\n",
    "jupyter: python3\n",
    "---"
   ]
  },
  {
   "cell_type": "markdown",
   "metadata": {},
   "source": [
    "# This uses the [ELFI]() demo from [here](https://github.com/elfi-dev/notebooks/blob/master/quickstart.ipynb)\n",
    "\n",
    "To setup a notebook page in quarto:\n",
    "\n",
    "* Activate your virtual environment\n",
    "* Install required libraries (`pip install -r requirements.txt` to use repository's dependencies)\n",
    "* If you want the user to be able to edit it in binder\n",
    "    * generate `requirements.txt` in the root of the reporistory directory `pip freeze >requirements.txt` (this will mean Binder picks it up when building the binder image)\n",
    "    * generate binder link: goto https://mybinder.org/  and fill in repo details and location of notebook\n",
    "    * paste the generated URL or markdown fragment into the notebook (or wherever)\n",
    "    * Note that the first time the binder is run it'll take a while, as it has to build the environment and its dependencies.  This is cached, so subsequent runs should be quicker\n",
    "\n",
    "\n",
    "[![Binder](https://mybinder.org/badge_logo.svg)](https://mybinder.org/v2/gh/mawds/quarto-binder-python/main?urlpath=git-pull%3Frepo%3Dhttps%253A%252F%252Fgithub.com%252Fmawds%252Fquarto-tutorial-site%26urlpath%3Dtree%252Fquarto-tutorial-site%252Fpython_tutorials%252Fquickstart.ipynb%26branch%3Dmain)\n",
    "\n",
    "\n",
    "\n",
    "\n",
    "## Notes\n",
    "\n",
    "This notebook has `code-fold: true` to hide code by default; we can override this on a cell by cell basis with the special `#|` comment, e.g. `#|code-fold: false`.\n",
    "\n",
    "This page lists the options we can apply to each cell: https://quarto.org/docs/reference/cells/cells-jupyter.html\n",
    "\n"
   ]
  },
  {
   "cell_type": "markdown",
   "metadata": {},
   "source": [
    "# Quickstart\n",
    "\n",
    "First ensure you have [installed](http://elfi.readthedocs.io/en/stable/installation.html) Python 3.5 (or greater) and ELFI. After installation you can start using ELFI:"
   ]
  },
  {
   "cell_type": "code",
   "execution_count": 15,
   "metadata": {
    "collapsed": true
   },
   "outputs": [],
   "source": [
    "import elfi"
   ]
  },
  {
   "cell_type": "markdown",
   "metadata": {},
   "source": [
    "ELFI includes an easy to use generative modeling syntax, where the generative model is specified as a directed acyclic graph (DAG). Let’s create two prior nodes:\n",
    "\n",
    "> we use the code-fold option discussed above, so the user can always see this code"
   ]
  },
  {
   "cell_type": "code",
   "execution_count": 16,
   "metadata": {
    "collapsed": true
   },
   "outputs": [],
   "source": [
    "#| code-fold: false\n",
    "mu = elfi.Prior('uniform', -2, 4)\n",
    "sigma = elfi.Prior('uniform', 1, 4)"
   ]
  },
  {
   "cell_type": "markdown",
   "metadata": {},
   "source": [
    "The above would create two prior nodes, a uniform distribution from -2 to 2 for the mean `mu` and another uniform distribution from 1 to 5 for the standard deviation `sigma`. All distributions from `scipy.stats` are available.\n",
    "\n",
    "For likelihood-free models we typically need to define a simulator and summary statistics for the data. As an example, lets define the simulator as 30 draws from a Gaussian distribution with a given mean and standard deviation. Let's use mean and variance as our summaries:"
   ]
  },
  {
   "cell_type": "code",
   "execution_count": 17,
   "metadata": {
    "collapsed": true
   },
   "outputs": [],
   "source": [
    "import scipy.stats as ss\n",
    "import numpy as np\n",
    "\n",
    "def simulator(mu, sigma, batch_size=1, random_state=None):\n",
    "    mu, sigma = np.atleast_1d(mu, sigma)\n",
    "    return ss.norm.rvs(mu[:, None], sigma[:, None], size=(batch_size, 30), random_state=random_state)\n",
    "\n",
    "def mean(y):\n",
    "    return np.mean(y, axis=1)\n",
    "\n",
    "def var(y):\n",
    "    return np.var(y, axis=1)"
   ]
  },
  {
   "cell_type": "markdown",
   "metadata": {},
   "source": [
    "Let’s now assume we have some observed data `y0` (here we just create some with the simulator):"
   ]
  },
  {
   "cell_type": "code",
   "execution_count": 18,
   "metadata": {
    "collapsed": false
   },
   "outputs": [
    {
     "name": "stdout",
     "output_type": "stream",
     "text": [
      "[[ 3.7990926   1.49411834  0.90999905  2.46088006 -0.10696721  0.80490023\n",
      "   0.7413415  -5.07258261  0.89397268  3.55462229  0.45888389 -3.31930036\n",
      "  -0.55378741  3.00865492  1.59394854 -3.37065996  5.03883749 -2.73279084\n",
      "   6.10128027  5.09388631  1.90079255 -1.7161259   3.86821266  0.4963219\n",
      "   1.64594033 -2.51620566 -0.83601666  2.68225112  2.75598375 -6.02538356]]\n"
     ]
    }
   ],
   "source": [
    "# Set the generating parameters that we will try to infer\n",
    "mean0 = 1\n",
    "std0 = 3\n",
    "\n",
    "# Generate some data (using a fixed seed here)\n",
    "np.random.seed(20170525) \n",
    "y0 = simulator(mean0, std0)\n",
    "print(y0)"
   ]
  },
  {
   "cell_type": "markdown",
   "metadata": {},
   "source": [
    "Now we have all the components needed. Let’s complete our model by adding the simulator, the observed data, summaries and a distance to our model:"
   ]
  },
  {
   "cell_type": "code",
   "execution_count": 19,
   "metadata": {
    "collapsed": true
   },
   "outputs": [],
   "source": [
    "# Add the simulator node and observed data to the model\n",
    "sim = elfi.Simulator(simulator, mu, sigma, observed=y0)\n",
    "\n",
    "# Add summary statistics to the model\n",
    "S1 = elfi.Summary(mean, sim)\n",
    "S2 = elfi.Summary(var, sim)\n",
    "\n",
    "# Specify distance as euclidean between summary vectors (S1, S2) from simulated and\n",
    "# observed data\n",
    "d = elfi.Distance('euclidean', S1, S2)"
   ]
  },
  {
   "cell_type": "markdown",
   "metadata": {},
   "source": [
    "If you have `graphviz` installed to your system, you can also visualize the model:"
   ]
  },
  {
   "cell_type": "code",
   "execution_count": 20,
   "metadata": {
    "collapsed": false
   },
   "outputs": [
    {
     "data": {
      "image/svg+xml": "<?xml version=\"1.0\" encoding=\"UTF-8\" standalone=\"no\"?>\n<!DOCTYPE svg PUBLIC \"-//W3C//DTD SVG 1.1//EN\"\n \"http://www.w3.org/Graphics/SVG/1.1/DTD/svg11.dtd\">\n<!-- Generated by graphviz version 2.43.0 (0)\n -->\n<!-- Title: %3 Pages: 1 -->\n<svg width=\"957pt\" height=\"757pt\"\n viewBox=\"0.00 0.00 957.49 756.84\" xmlns=\"http://www.w3.org/2000/svg\" xmlns:xlink=\"http://www.w3.org/1999/xlink\">\n<g id=\"graph0\" class=\"graph\" transform=\"scale(1 1) rotate(0) translate(4 752.84)\">\n<title>%3</title>\n<polygon fill=\"white\" stroke=\"transparent\" points=\"-4,4 -4,-752.84 953.49,-752.84 953.49,4 -4,4\"/>\n<!-- mu -->\n<g id=\"node1\" class=\"node\">\n<title>mu</title>\n<ellipse fill=\"none\" stroke=\"black\" cx=\"25.35\" cy=\"-683.2\" rx=\"25.2\" ry=\"25.2\"/>\n<text text-anchor=\"middle\" x=\"25.35\" y=\"-679.5\" font-family=\"Times,serif\" font-size=\"14.00\">mu</text>\n</g>\n<!-- sim -->\n<g id=\"node3\" class=\"node\">\n<title>sim</title>\n<ellipse fill=\"#cccccc\" stroke=\"black\" cx=\"66.35\" cy=\"-494.46\" rx=\"27.1\" ry=\"27.1\"/>\n<text text-anchor=\"middle\" x=\"66.35\" y=\"-490.76\" font-family=\"Times,serif\" font-size=\"14.00\">sim</text>\n</g>\n<!-- mu&#45;&gt;sim -->\n<g id=\"edge1\" class=\"edge\">\n<title>mu&#45;&gt;sim</title>\n<path fill=\"none\" stroke=\"black\" d=\"M30.62,-658.17C37.7,-625.93 50.32,-568.44 58.51,-531.14\"/>\n<polygon fill=\"black\" stroke=\"black\" points=\"61.97,-531.71 60.7,-521.2 55.13,-530.21 61.97,-531.71\"/>\n</g>\n<!-- sigma -->\n<g id=\"node2\" class=\"node\">\n<title>sigma</title>\n<ellipse fill=\"none\" stroke=\"black\" cx=\"107.35\" cy=\"-683.2\" rx=\"38.19\" ry=\"38.19\"/>\n<text text-anchor=\"middle\" x=\"107.35\" y=\"-679.5\" font-family=\"Times,serif\" font-size=\"14.00\">sigma</text>\n</g>\n<!-- sigma&#45;&gt;sim -->\n<g id=\"edge2\" class=\"edge\">\n<title>sigma&#45;&gt;sim</title>\n<path fill=\"none\" stroke=\"black\" d=\"M99.25,-645.31C91.98,-612.22 81.39,-563.97 74.2,-531.23\"/>\n<polygon fill=\"black\" stroke=\"black\" points=\"77.56,-530.2 72,-521.18 70.72,-531.7 77.56,-530.2\"/>\n</g>\n<!-- S1 -->\n<g id=\"node4\" class=\"node\">\n<title>S1</title>\n<ellipse fill=\"#cccccc\" stroke=\"black\" cx=\"35.35\" cy=\"-284.93\" rx=\"23\" ry=\"23\"/>\n<text text-anchor=\"middle\" x=\"35.35\" y=\"-281.23\" font-family=\"Times,serif\" font-size=\"14.00\">S1</text>\n</g>\n<!-- sim&#45;&gt;S1 -->\n<g id=\"edge3\" class=\"edge\">\n<title>sim&#45;&gt;S1</title>\n<path fill=\"none\" stroke=\"black\" d=\"M62.42,-467.18C56.73,-429.05 46.19,-358.5 40.07,-317.57\"/>\n<polygon fill=\"black\" stroke=\"black\" points=\"43.52,-316.97 38.58,-307.59 36.6,-318 43.52,-316.97\"/>\n</g>\n<!-- S2 -->\n<g id=\"node5\" class=\"node\">\n<title>S2</title>\n<ellipse fill=\"#cccccc\" stroke=\"black\" cx=\"98.35\" cy=\"-284.93\" rx=\"23\" ry=\"23\"/>\n<text text-anchor=\"middle\" x=\"98.35\" y=\"-281.23\" font-family=\"Times,serif\" font-size=\"14.00\">S2</text>\n</g>\n<!-- sim&#45;&gt;S2 -->\n<g id=\"edge4\" class=\"edge\">\n<title>sim&#45;&gt;S2</title>\n<path fill=\"none\" stroke=\"black\" d=\"M70.4,-467.18C76.28,-429.05 87.16,-358.5 93.47,-317.57\"/>\n<polygon fill=\"black\" stroke=\"black\" points=\"96.94,-318.01 95.01,-307.59 90.02,-316.94 96.94,-318.01\"/>\n</g>\n<!-- d -->\n<g id=\"node6\" class=\"node\">\n<title>d</title>\n<ellipse fill=\"none\" stroke=\"black\" cx=\"67.35\" cy=\"-81.24\" rx=\"18\" ry=\"18\"/>\n<text text-anchor=\"middle\" x=\"67.35\" y=\"-77.54\" font-family=\"Times,serif\" font-size=\"14.00\">d</text>\n</g>\n<!-- S1&#45;&gt;d -->\n<g id=\"edge5\" class=\"edge\">\n<title>S1&#45;&gt;d</title>\n<path fill=\"none\" stroke=\"black\" d=\"M38.77,-262.34C44.65,-225.31 56.64,-149.75 63.06,-109.27\"/>\n<polygon fill=\"black\" stroke=\"black\" points=\"66.53,-109.74 64.64,-99.31 59.62,-108.64 66.53,-109.74\"/>\n</g>\n<!-- S2&#45;&gt;d -->\n<g id=\"edge6\" class=\"edge\">\n<title>S2&#45;&gt;d</title>\n<path fill=\"none\" stroke=\"black\" d=\"M95.03,-262.34C89.34,-225.31 77.72,-149.75 71.5,-109.27\"/>\n<polygon fill=\"black\" stroke=\"black\" points=\"74.95,-108.67 69.97,-99.31 68.03,-109.73 74.95,-108.67\"/>\n</g>\n<!-- _prior_9a96 -->\n<g id=\"node7\" class=\"node\">\n<title>_prior_9a96</title>\n<ellipse fill=\"none\" stroke=\"black\" cx=\"332.35\" cy=\"-683.2\" rx=\"65.79\" ry=\"65.79\"/>\n<text text-anchor=\"middle\" x=\"332.35\" y=\"-679.5\" font-family=\"Times,serif\" font-size=\"14.00\">_prior_9a96</text>\n</g>\n<!-- _simulator_400e -->\n<g id=\"node9\" class=\"node\">\n<title>_simulator_400e</title>\n<ellipse fill=\"#cccccc\" stroke=\"black\" cx=\"369.35\" cy=\"-494.46\" rx=\"87.18\" ry=\"87.18\"/>\n<text text-anchor=\"middle\" x=\"369.35\" y=\"-490.76\" font-family=\"Times,serif\" font-size=\"14.00\">_simulator_400e</text>\n</g>\n<!-- _prior_9a96&#45;&gt;_simulator_400e -->\n<g id=\"edge7\" class=\"edge\">\n<title>_prior_9a96&#45;&gt;_simulator_400e</title>\n<path fill=\"none\" stroke=\"black\" d=\"M344.93,-618.72C346.75,-609.54 348.65,-599.92 350.56,-590.29\"/>\n<polygon fill=\"black\" stroke=\"black\" points=\"354.04,-590.75 352.55,-580.26 347.17,-589.39 354.04,-590.75\"/>\n</g>\n<!-- _prior_f596 -->\n<g id=\"node8\" class=\"node\">\n<title>_prior_f596</title>\n<ellipse fill=\"none\" stroke=\"black\" cx=\"479.35\" cy=\"-683.2\" rx=\"63.89\" ry=\"63.89\"/>\n<text text-anchor=\"middle\" x=\"479.35\" y=\"-679.5\" font-family=\"Times,serif\" font-size=\"14.00\">_prior_f596</text>\n</g>\n<!-- _prior_f596&#45;&gt;_simulator_400e -->\n<g id=\"edge8\" class=\"edge\">\n<title>_prior_f596&#45;&gt;_simulator_400e</title>\n<path fill=\"none\" stroke=\"black\" d=\"M447.38,-627.94C438.31,-612.53 428.21,-595.39 418.37,-578.69\"/>\n<polygon fill=\"black\" stroke=\"black\" points=\"421.35,-576.85 413.26,-570.01 415.32,-580.4 421.35,-576.85\"/>\n</g>\n<!-- _summary_d975 -->\n<g id=\"node10\" class=\"node\">\n<title>_summary_d975</title>\n<ellipse fill=\"#cccccc\" stroke=\"black\" cx=\"225.35\" cy=\"-284.93\" rx=\"86.38\" ry=\"86.38\"/>\n<text text-anchor=\"middle\" x=\"225.35\" y=\"-281.23\" font-family=\"Times,serif\" font-size=\"14.00\">_summary_d975</text>\n</g>\n<!-- _simulator_400e&#45;&gt;_summary_d975 -->\n<g id=\"edge9\" class=\"edge\">\n<title>_simulator_400e&#45;&gt;_summary_d975</title>\n<path fill=\"none\" stroke=\"black\" d=\"M319.99,-422.33C307.16,-403.83 293.25,-383.79 280.15,-364.91\"/>\n<polygon fill=\"black\" stroke=\"black\" points=\"282.97,-362.84 274.39,-356.61 277.22,-366.83 282.97,-362.84\"/>\n</g>\n<!-- _summary_6b5d -->\n<g id=\"node11\" class=\"node\">\n<title>_summary_6b5d</title>\n<ellipse fill=\"#cccccc\" stroke=\"black\" cx=\"416.35\" cy=\"-284.93\" rx=\"86.38\" ry=\"86.38\"/>\n<text text-anchor=\"middle\" x=\"416.35\" y=\"-281.23\" font-family=\"Times,serif\" font-size=\"14.00\">_summary_6b5d</text>\n</g>\n<!-- _simulator_400e&#45;&gt;_summary_6b5d -->\n<g id=\"edge10\" class=\"edge\">\n<title>_simulator_400e&#45;&gt;_summary_6b5d</title>\n<path fill=\"none\" stroke=\"black\" d=\"M388.4,-409.35C390.63,-399.49 392.92,-389.38 395.18,-379.41\"/>\n<polygon fill=\"black\" stroke=\"black\" points=\"398.63,-380.01 397.42,-369.49 391.8,-378.47 398.63,-380.01\"/>\n</g>\n<!-- _distance_2a41 -->\n<g id=\"node12\" class=\"node\">\n<title>_distance_2a41</title>\n<ellipse fill=\"none\" stroke=\"black\" cx=\"320.35\" cy=\"-81.24\" rx=\"81.49\" ry=\"81.49\"/>\n<text text-anchor=\"middle\" x=\"320.35\" y=\"-77.54\" font-family=\"Times,serif\" font-size=\"14.00\">_distance_2a41</text>\n</g>\n<!-- _summary_d975&#45;&gt;_distance_2a41 -->\n<g id=\"edge11\" class=\"edge\">\n<title>_summary_d975&#45;&gt;_distance_2a41</title>\n<path fill=\"none\" stroke=\"black\" d=\"M261.81,-206.53C268.33,-192.68 275.15,-178.2 281.73,-164.23\"/>\n<polygon fill=\"black\" stroke=\"black\" points=\"284.92,-165.67 286.02,-155.13 278.59,-162.68 284.92,-165.67\"/>\n</g>\n<!-- _summary_6b5d&#45;&gt;_distance_2a41 -->\n<g id=\"edge12\" class=\"edge\">\n<title>_summary_6b5d&#45;&gt;_distance_2a41</title>\n<path fill=\"none\" stroke=\"black\" d=\"M379.51,-206.53C372.87,-192.59 365.93,-178.01 359.24,-163.95\"/>\n<polygon fill=\"black\" stroke=\"black\" points=\"362.34,-162.32 354.88,-154.8 356.02,-165.33 362.34,-162.32\"/>\n</g>\n<!-- _prior_8336 -->\n<g id=\"node13\" class=\"node\">\n<title>_prior_8336</title>\n<ellipse fill=\"none\" stroke=\"black\" cx=\"668.35\" cy=\"-683.2\" rx=\"65.79\" ry=\"65.79\"/>\n<text text-anchor=\"middle\" x=\"668.35\" y=\"-679.5\" font-family=\"Times,serif\" font-size=\"14.00\">_prior_8336</text>\n</g>\n<!-- _simulator_0c32 -->\n<g id=\"node15\" class=\"node\">\n<title>_simulator_0c32</title>\n<ellipse fill=\"#cccccc\" stroke=\"black\" cx=\"724.35\" cy=\"-494.46\" rx=\"86.38\" ry=\"86.38\"/>\n<text text-anchor=\"middle\" x=\"724.35\" y=\"-490.76\" font-family=\"Times,serif\" font-size=\"14.00\">_simulator_0c32</text>\n</g>\n<!-- _prior_8336&#45;&gt;_simulator_0c32 -->\n<g id=\"edge13\" class=\"edge\">\n<title>_prior_8336&#45;&gt;_simulator_0c32</title>\n<path fill=\"none\" stroke=\"black\" d=\"M686.99,-620.02C690.14,-609.51 693.47,-598.42 696.79,-587.35\"/>\n<polygon fill=\"black\" stroke=\"black\" points=\"700.18,-588.22 699.7,-577.64 693.48,-586.21 700.18,-588.22\"/>\n</g>\n<!-- _prior_ff70 -->\n<g id=\"node14\" class=\"node\">\n<title>_prior_ff70</title>\n<ellipse fill=\"none\" stroke=\"black\" cx=\"813.35\" cy=\"-683.2\" rx=\"61.19\" ry=\"61.19\"/>\n<text text-anchor=\"middle\" x=\"813.35\" y=\"-679.5\" font-family=\"Times,serif\" font-size=\"14.00\">_prior_ff70</text>\n</g>\n<!-- _prior_ff70&#45;&gt;_simulator_0c32 -->\n<g id=\"edge14\" class=\"edge\">\n<title>_prior_ff70&#45;&gt;_simulator_0c32</title>\n<path fill=\"none\" stroke=\"black\" d=\"M787.37,-627.69C780.55,-613.38 773.02,-597.59 765.62,-582.05\"/>\n<polygon fill=\"black\" stroke=\"black\" points=\"768.74,-580.46 761.27,-572.94 762.42,-583.47 768.74,-580.46\"/>\n</g>\n<!-- _summary_fea4 -->\n<g id=\"node16\" class=\"node\">\n<title>_summary_fea4</title>\n<ellipse fill=\"#cccccc\" stroke=\"black\" cx=\"678.35\" cy=\"-284.93\" rx=\"83.39\" ry=\"83.39\"/>\n<text text-anchor=\"middle\" x=\"678.35\" y=\"-281.23\" font-family=\"Times,serif\" font-size=\"14.00\">_summary_fea4</text>\n</g>\n<!-- _simulator_0c32&#45;&gt;_summary_fea4 -->\n<g id=\"edge15\" class=\"edge\">\n<title>_simulator_0c32&#45;&gt;_summary_fea4</title>\n<path fill=\"none\" stroke=\"black\" d=\"M705.84,-409.95C703.37,-398.8 700.82,-387.32 698.33,-376.06\"/>\n<polygon fill=\"black\" stroke=\"black\" points=\"701.73,-375.25 696.15,-366.24 694.9,-376.76 701.73,-375.25\"/>\n</g>\n<!-- _summary_ac51 -->\n<g id=\"node17\" class=\"node\">\n<title>_summary_ac51</title>\n<ellipse fill=\"#cccccc\" stroke=\"black\" cx=\"864.35\" cy=\"-284.93\" rx=\"85.29\" ry=\"85.29\"/>\n<text text-anchor=\"middle\" x=\"864.35\" y=\"-281.23\" font-family=\"Times,serif\" font-size=\"14.00\">_summary_ac51</text>\n</g>\n<!-- _simulator_0c32&#45;&gt;_summary_ac51 -->\n<g id=\"edge16\" class=\"edge\">\n<title>_simulator_0c32&#45;&gt;_summary_ac51</title>\n<path fill=\"none\" stroke=\"black\" d=\"M772.33,-422.33C784.95,-403.63 798.63,-383.35 811.49,-364.29\"/>\n<polygon fill=\"black\" stroke=\"black\" points=\"814.45,-366.16 817.14,-355.91 808.64,-362.24 814.45,-366.16\"/>\n</g>\n<!-- _distance_29c8 -->\n<g id=\"node18\" class=\"node\">\n<title>_distance_29c8</title>\n<ellipse fill=\"none\" stroke=\"black\" cx=\"771.35\" cy=\"-81.24\" rx=\"81.49\" ry=\"81.49\"/>\n<text text-anchor=\"middle\" x=\"771.35\" y=\"-77.54\" font-family=\"Times,serif\" font-size=\"14.00\">_distance_29c8</text>\n</g>\n<!-- _summary_fea4&#45;&gt;_distance_29c8 -->\n<g id=\"edge17\" class=\"edge\">\n<title>_summary_fea4&#45;&gt;_distance_29c8</title>\n<path fill=\"none\" stroke=\"black\" d=\"M712.85,-209.11C719.57,-194.54 726.65,-179.18 733.47,-164.39\"/>\n<polygon fill=\"black\" stroke=\"black\" points=\"736.67,-165.8 737.68,-155.26 730.31,-162.87 736.67,-165.8\"/>\n</g>\n<!-- _summary_ac51&#45;&gt;_distance_29c8 -->\n<g id=\"edge18\" class=\"edge\">\n<title>_summary_ac51&#45;&gt;_distance_29c8</title>\n<path fill=\"none\" stroke=\"black\" d=\"M829.06,-207.39C822.61,-193.41 815.85,-178.76 809.33,-164.61\"/>\n<polygon fill=\"black\" stroke=\"black\" points=\"812.45,-163.01 805.08,-155.4 806.09,-165.94 812.45,-163.01\"/>\n</g>\n</g>\n</svg>\n",
      "text/plain": [
       "<graphviz.graphs.Digraph at 0x7f99ee3495e0>"
      ]
     },
     "execution_count": 20,
     "metadata": {},
     "output_type": "execute_result"
    }
   ],
   "source": [
    "# Plot the complete model (requires graphviz)\n",
    "elfi.draw(d)"
   ]
  },
  {
   "cell_type": "raw",
   "metadata": {},
   "source": [
    ".. Note:: The automatic naming of nodes may not work in all environments e.g. in interactive Python shells. You can alternatively provide a name argument for the nodes, e.g. ``S1 = elfi.Summary(mean, sim, name='S1')``."
   ]
  },
  {
   "cell_type": "markdown",
   "metadata": {},
   "source": [
    "We can try to infer the true generating parameters `mean0` and `std0` above with any of ELFI’s inference methods. Let’s use ABC Rejection sampling and sample 1000 samples from the approximate posterior using threshold value 0.5:"
   ]
  },
  {
   "cell_type": "code",
   "execution_count": 21,
   "metadata": {
    "collapsed": false
   },
   "outputs": [
    {
     "name": "stdout",
     "output_type": "stream",
     "text": [
      "Progress [==================================================] 100.0% Complete\n",
      "Method: Rejection\n",
      "Number of samples: 1000\n",
      "Number of simulations: 130000\n",
      "Threshold: 0.481\n",
      "Sample means: _prior_8336: 0.718, _prior_9a96: -0.0234, _prior_f596: 3, _prior_ff70: 3.12, mu: 0.00722, sigma: 3.01\n",
      "\n"
     ]
    }
   ],
   "source": [
    "rej = elfi.Rejection(d, batch_size=10000, seed=30052017)\n",
    "res = rej.sample(1000, threshold=.5)\n",
    "print(res)"
   ]
  },
  {
   "cell_type": "markdown",
   "metadata": {},
   "source": [
    "Let's plot also the marginal distributions for the parameters:"
   ]
  },
  {
   "cell_type": "code",
   "execution_count": 22,
   "metadata": {
    "collapsed": false
   },
   "outputs": [
    {
     "data": {
      "image/png": "[encoded data removed]",
      "text/plain": [
       "<Figure size 1728x288 with 6 Axes>"
      ]
     },
     "metadata": {
      "needs_background": "light"
     },
     "output_type": "display_data"
    }
   ],
   "source": [
    "import matplotlib.pyplot as plt\n",
    "res.plot_marginals()\n",
    "plt.show()"
   ]
  }
 ],
 "metadata": {
  "interpreter": {
   "hash": "57ffde0096d2abf4b63ee05cc9033ab7794ae611ead95357d730cf51b732ea5d"
  },
  "kernelspec": {
   "display_name": "Python 3.9.5 ('venv': venv)",
   "language": "python",
   "name": "python3"
  },
  "language_info": {
   "codemirror_mode": {
    "name": "ipython",
    "version": 3
   },
   "file_extension": ".py",
   "mimetype": "text/x-python",
   "name": "python",
   "nbconvert_exporter": "python",
   "pygments_lexer": "ipython3",
   "version": "3.9.5"
  }
 },
 "nbformat": 4,
 "nbformat_minor": 1
}
